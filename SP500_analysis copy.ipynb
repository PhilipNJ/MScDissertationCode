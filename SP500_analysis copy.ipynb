{
 "cells": [
  {
   "cell_type": "markdown",
   "metadata": {},
   "source": [
    "# S&P 500 Analysis"
   ]
  },
  {
   "cell_type": "markdown",
   "metadata": {},
   "source": [
    "## Import the Packages, Functions and Data"
   ]
  },
  {
   "cell_type": "code",
   "execution_count": 1,
   "metadata": {},
   "outputs": [],
   "source": [
    "import pandas as pd\n",
    "from DQN_functions import create_states, ReplayMemory, DQNAgent,train_agent,evaluate_agent, ConvDQN,plot_training,create_action_episode_df\n",
    "import pandas as pd\n",
    "import torch\n",
    "import warnings\n",
    "warnings.filterwarnings('ignore')"
   ]
  },
  {
   "cell_type": "code",
   "execution_count": 2,
   "metadata": {},
   "outputs": [],
   "source": [
    "df = pd.read_pickle('data/SP500.pkl')"
   ]
  },
  {
   "cell_type": "markdown",
   "metadata": {},
   "source": [
    "## Outlier Removal \n"
   ]
  },
  {
   "cell_type": "code",
   "execution_count": 3,
   "metadata": {},
   "outputs": [
    {
     "name": "stdout",
     "output_type": "stream",
     "text": [
      "Mean: 0.00037873998112499885, Std: 0.012040180200659603, Upper Limit: 0.024459100382444206, Lower Limit: -0.023701620420194205\n",
      "Number of rows outside 3 sigma range: 244\n",
      "Percentage of rows outside 3 sigma range: 4.848003179018478% \n"
     ]
    }
   ],
   "source": [
    "df['daily_return'] = df['Close'].pct_change()\n",
    "df['daily_return'] = df['daily_return'].fillna(0)\n",
    "#mean plus 3sigma value for absolute daily returns\n",
    "mean = df['daily_return'].mean()\n",
    "std = df['daily_return'].std()\n",
    "upper_limit = mean + 2*std\n",
    "lower_limit = mean - 2*std\n",
    "print(f'Mean: {mean}, Std: {std}, Upper Limit: {upper_limit}, Lower Limit: {lower_limit}')\n",
    "#number of rows that are outside the 3 sigma range\n",
    "print(f'Number of rows outside 3 sigma range: {len(df[(df[\"daily_return\"]>upper_limit) | (df[\"daily_return\"]<lower_limit)])}')\n",
    "print(f'Percentage of rows outside 3 sigma range: {len(df[(df[\"daily_return\"]>upper_limit) | (df[\"daily_return\"]<lower_limit)])/len(df)*100}% ')\n",
    "\n",
    "#if daily return is outside 3 sigma range, replace all the values with previous day's values\n",
    "for i in range(1,len(df)):\n",
    "    if df['daily_return'][i]>upper_limit or df['daily_return'][i]<lower_limit:\n",
    "        df['Close'][i] = df['Close'][i-1]\n",
    "        df['Open'][i] = df['Open'][i-1]\n",
    "        df['High'][i] = df['High'][i-1]\n",
    "        df['Low'][i] = df['Low'][i-1]\n",
    "        df['Volume'][i] = df['Volume'][i-1]\n",
    "        df['daily_return'][i] = 'NaN'"
   ]
  },
  {
   "cell_type": "markdown",
   "metadata": {},
   "source": [
    "## DQN"
   ]
  },
  {
   "cell_type": "markdown",
   "metadata": {},
   "source": [
    "### Training"
   ]
  },
  {
   "cell_type": "code",
   "execution_count": 4,
   "metadata": {},
   "outputs": [],
   "source": [
    "df_base = df[['Open','High','Low','Close','Volume']]\n",
    "\n",
    "#first 80% of the data is train\n",
    "df_train = df_base.iloc[:int(len(df_base)*0.8)]\n",
    "#last 20% of the data is test\n",
    "df_test = df_base.iloc[int(len(df_base)*0.8):]"
   ]
  },
  {
   "cell_type": "code",
   "execution_count": 5,
   "metadata": {},
   "outputs": [
    {
     "data": {
      "text/html": [
       "<div>\n",
       "<style scoped>\n",
       "    .dataframe tbody tr th:only-of-type {\n",
       "        vertical-align: middle;\n",
       "    }\n",
       "\n",
       "    .dataframe tbody tr th {\n",
       "        vertical-align: top;\n",
       "    }\n",
       "\n",
       "    .dataframe thead th {\n",
       "        text-align: right;\n",
       "    }\n",
       "</style>\n",
       "<table border=\"1\" class=\"dataframe\">\n",
       "  <thead>\n",
       "    <tr style=\"text-align: right;\">\n",
       "      <th></th>\n",
       "      <th>Open</th>\n",
       "      <th>High</th>\n",
       "      <th>Low</th>\n",
       "      <th>Close</th>\n",
       "      <th>Volume</th>\n",
       "    </tr>\n",
       "    <tr>\n",
       "      <th>Date</th>\n",
       "      <th></th>\n",
       "      <th></th>\n",
       "      <th></th>\n",
       "      <th></th>\n",
       "      <th></th>\n",
       "    </tr>\n",
       "  </thead>\n",
       "  <tbody>\n",
       "    <tr>\n",
       "      <th>2004-03-31</th>\n",
       "      <td>1127.000000</td>\n",
       "      <td>1130.829956</td>\n",
       "      <td>1121.459961</td>\n",
       "      <td>1126.209961</td>\n",
       "      <td>1560700000</td>\n",
       "    </tr>\n",
       "    <tr>\n",
       "      <th>2004-04-01</th>\n",
       "      <td>1126.209961</td>\n",
       "      <td>1135.670044</td>\n",
       "      <td>1126.199951</td>\n",
       "      <td>1132.170044</td>\n",
       "      <td>1560700000</td>\n",
       "    </tr>\n",
       "    <tr>\n",
       "      <th>2004-04-02</th>\n",
       "      <td>1132.170044</td>\n",
       "      <td>1144.810059</td>\n",
       "      <td>1132.170044</td>\n",
       "      <td>1141.810059</td>\n",
       "      <td>1629200000</td>\n",
       "    </tr>\n",
       "    <tr>\n",
       "      <th>2004-04-05</th>\n",
       "      <td>1141.810059</td>\n",
       "      <td>1150.569946</td>\n",
       "      <td>1141.640015</td>\n",
       "      <td>1150.569946</td>\n",
       "      <td>1413700000</td>\n",
       "    </tr>\n",
       "    <tr>\n",
       "      <th>2004-04-06</th>\n",
       "      <td>1150.569946</td>\n",
       "      <td>1150.569946</td>\n",
       "      <td>1143.300049</td>\n",
       "      <td>1148.160034</td>\n",
       "      <td>1397700000</td>\n",
       "    </tr>\n",
       "  </tbody>\n",
       "</table>\n",
       "</div>"
      ],
      "text/plain": [
       "                   Open         High          Low        Close      Volume\n",
       "Date                                                                      \n",
       "2004-03-31  1127.000000  1130.829956  1121.459961  1126.209961  1560700000\n",
       "2004-04-01  1126.209961  1135.670044  1126.199951  1132.170044  1560700000\n",
       "2004-04-02  1132.170044  1144.810059  1132.170044  1141.810059  1629200000\n",
       "2004-04-05  1141.810059  1150.569946  1141.640015  1150.569946  1413700000\n",
       "2004-04-06  1150.569946  1150.569946  1143.300049  1148.160034  1397700000"
      ]
     },
     "metadata": {},
     "output_type": "display_data"
    },
    {
     "data": {
      "text/html": [
       "<div>\n",
       "<style scoped>\n",
       "    .dataframe tbody tr th:only-of-type {\n",
       "        vertical-align: middle;\n",
       "    }\n",
       "\n",
       "    .dataframe tbody tr th {\n",
       "        vertical-align: top;\n",
       "    }\n",
       "\n",
       "    .dataframe thead th {\n",
       "        text-align: right;\n",
       "    }\n",
       "</style>\n",
       "<table border=\"1\" class=\"dataframe\">\n",
       "  <thead>\n",
       "    <tr style=\"text-align: right;\">\n",
       "      <th></th>\n",
       "      <th>Open</th>\n",
       "      <th>High</th>\n",
       "      <th>Low</th>\n",
       "      <th>Close</th>\n",
       "      <th>Volume</th>\n",
       "    </tr>\n",
       "    <tr>\n",
       "      <th>Date</th>\n",
       "      <th></th>\n",
       "      <th></th>\n",
       "      <th></th>\n",
       "      <th></th>\n",
       "      <th></th>\n",
       "    </tr>\n",
       "  </thead>\n",
       "  <tbody>\n",
       "    <tr>\n",
       "      <th>2020-03-30</th>\n",
       "      <td>2457.770020</td>\n",
       "      <td>2571.419922</td>\n",
       "      <td>2407.530029</td>\n",
       "      <td>2475.560059</td>\n",
       "      <td>8300010000</td>\n",
       "    </tr>\n",
       "    <tr>\n",
       "      <th>2020-03-31</th>\n",
       "      <td>2614.689941</td>\n",
       "      <td>2641.389893</td>\n",
       "      <td>2571.149902</td>\n",
       "      <td>2584.590088</td>\n",
       "      <td>6576210000</td>\n",
       "    </tr>\n",
       "    <tr>\n",
       "      <th>2020-04-01</th>\n",
       "      <td>2614.689941</td>\n",
       "      <td>2641.389893</td>\n",
       "      <td>2571.149902</td>\n",
       "      <td>2584.590088</td>\n",
       "      <td>6576210000</td>\n",
       "    </tr>\n",
       "    <tr>\n",
       "      <th>2020-04-02</th>\n",
       "      <td>2458.540039</td>\n",
       "      <td>2533.219971</td>\n",
       "      <td>2455.790039</td>\n",
       "      <td>2526.899902</td>\n",
       "      <td>6464190000</td>\n",
       "    </tr>\n",
       "    <tr>\n",
       "      <th>2020-04-03</th>\n",
       "      <td>2514.919922</td>\n",
       "      <td>2538.179932</td>\n",
       "      <td>2459.959961</td>\n",
       "      <td>2488.649902</td>\n",
       "      <td>6096970000</td>\n",
       "    </tr>\n",
       "  </tbody>\n",
       "</table>\n",
       "</div>"
      ],
      "text/plain": [
       "                   Open         High          Low        Close      Volume\n",
       "Date                                                                      \n",
       "2020-03-30  2457.770020  2571.419922  2407.530029  2475.560059  8300010000\n",
       "2020-03-31  2614.689941  2641.389893  2571.149902  2584.590088  6576210000\n",
       "2020-04-01  2614.689941  2641.389893  2571.149902  2584.590088  6576210000\n",
       "2020-04-02  2458.540039  2533.219971  2455.790039  2526.899902  6464190000\n",
       "2020-04-03  2514.919922  2538.179932  2459.959961  2488.649902  6096970000"
      ]
     },
     "metadata": {},
     "output_type": "display_data"
    }
   ],
   "source": [
    "display(df_train.head())\n",
    "\n",
    "display(df_test.head())"
   ]
  },
  {
   "cell_type": "code",
   "execution_count": 6,
   "metadata": {},
   "outputs": [
    {
     "name": "stdout",
     "output_type": "stream",
     "text": [
      "(4026, 5) (1007, 5)\n",
      "5033\n",
      "5033\n"
     ]
    }
   ],
   "source": [
    "print(df_train.shape, df_test.shape)\n",
    "print(df_train.shape[0] + df_test.shape[0])\n",
    "print(df.shape[0])"
   ]
  },
  {
   "cell_type": "code",
   "execution_count": 7,
   "metadata": {},
   "outputs": [
    {
     "name": "stdout",
     "output_type": "stream",
     "text": [
      "Shape of states: (4000, 26, 5)\n"
     ]
    }
   ],
   "source": [
    "window_size = 26\n",
    "states = create_states(df_train, window_size)\n",
    "test_states = create_states(df_test, window_size)\n",
    "input_dim_conv = states.shape[2]\n",
    "output_dim = 3\n",
    "print(\"Shape of states:\", states.shape)"
   ]
  },
  {
   "cell_type": "code",
   "execution_count": 8,
   "metadata": {},
   "outputs": [],
   "source": [
    "model = ConvDQN(input_dim_conv, output_dim, window_size)\n",
    "memory = ReplayMemory(50000)\n",
    "agent = DQNAgent(input_dim_conv, output_dim, window_size,model, lr=0.0001, gamma=0.95, epsilon=1.0, epsilon_min=0.01, epsilon_decay=0.9995)"
   ]
  },
  {
   "cell_type": "code",
   "execution_count": 9,
   "metadata": {},
   "outputs": [
    {
     "name": "stdout",
     "output_type": "stream",
     "text": [
      "Episode 1/350, Total Reward: 4005.8183410207357, Loss: 25.438297878296574\n",
      "Episode 2/350, Total Reward: 4005.7189363697157, Loss: 25.139787896624963\n",
      "Episode 3/350, Total Reward: 4005.6348669239155, Loss: 23.865182061650245\n",
      "Episode 4/350, Total Reward: 4005.6145298458064, Loss: 23.11789382598156\n",
      "Episode 5/350, Total Reward: 4005.31621782944, Loss: 20.792510486867844\n",
      "Episode 6/350, Total Reward: 4005.5585361000453, Loss: 18.83726608576915\n",
      "Episode 7/350, Total Reward: 4006.1887506803355, Loss: 17.204917234990504\n",
      "Episode 8/350, Total Reward: 4005.3652140762174, Loss: 14.106568426000965\n",
      "Episode 9/350, Total Reward: 4005.54487705279, Loss: 14.951967453128654\n",
      "Episode 10/350, Total Reward: 4005.239732591109, Loss: 10.10887716561938\n",
      "Episode 11/350, Total Reward: 4005.8470920317845, Loss: 5.797340706396096\n",
      "Episode 12/350, Total Reward: 4005.4167434995948, Loss: 0.010171719305781673\n",
      "Episode 13/350, Total Reward: 4005.410362286636, Loss: -0.022895269702831435\n",
      "Episode 14/350, Total Reward: 4005.1126028490808, Loss: -0.007226768224581025\n",
      "Episode 15/350, Total Reward: 4005.2757625575264, Loss: -0.010037682890978795\n",
      "Episode 16/350, Total Reward: 4005.4790829941408, Loss: -0.011349045266845147\n",
      "Episode 17/350, Total Reward: 4005.6411163718512, Loss: -0.0695258108786224\n",
      "Episode 18/350, Total Reward: 4005.5040134921846, Loss: -0.04177285243744627\n",
      "Episode 19/350, Total Reward: 4005.3484901891197, Loss: -0.06253139928342724\n",
      "Episode 20/350, Total Reward: 4005.2280158449444, Loss: -0.09198517311381942\n"
     ]
    }
   ],
   "source": [
    "%%time\n",
    "log_train = train_agent(agent, states, 350, batch_size=32, price_history=df_train[window_size:])"
   ]
  },
  {
   "cell_type": "code",
   "execution_count": null,
   "metadata": {},
   "outputs": [],
   "source": [
    "log_train.to_csv('SP500/log_train_CNN_adjusted_lr_hyp_tune_mu2sigma_penalised_hold.csv', index=False)"
   ]
  },
  {
   "cell_type": "code",
   "execution_count": null,
   "metadata": {},
   "outputs": [],
   "source": [
    "#save the model\n",
    "torch.save(agent.model.state_dict(), 'SP500/dqn_model_log_train_CNN_adjusted_lr_hyp_tuned_scaled.pth')\n"
   ]
  },
  {
   "cell_type": "markdown",
   "metadata": {},
   "source": [
    "### Evaluating and Testing"
   ]
  },
  {
   "cell_type": "code",
   "execution_count": null,
   "metadata": {},
   "outputs": [],
   "source": [
    "log_train = pd.read_csv('SP500/log_train_CNN_adjusted learning rate.csv')"
   ]
  },
  {
   "cell_type": "code",
   "execution_count": null,
   "metadata": {},
   "outputs": [],
   "source": [
    "plot_training(log_train)"
   ]
  },
  {
   "cell_type": "code",
   "execution_count": null,
   "metadata": {},
   "outputs": [],
   "source": [
    "last_episode = log_train[log_train['Episode'] == log_train['Episode'].max()]"
   ]
  },
  {
   "cell_type": "code",
   "execution_count": null,
   "metadata": {},
   "outputs": [],
   "source": [
    "last_episode.reset_index(drop=True, inplace=True)\n",
    "last_episode.head()"
   ]
  },
  {
   "cell_type": "code",
   "execution_count": null,
   "metadata": {},
   "outputs": [],
   "source": [
    "last_episode['Close'] = last_episode['Price'].to_list()"
   ]
  },
  {
   "cell_type": "code",
   "execution_count": null,
   "metadata": {},
   "outputs": [],
   "source": [
    "last_episode['Capital_DQN'] = capital_calculation(last_episode,'Action')"
   ]
  },
  {
   "cell_type": "code",
   "execution_count": null,
   "metadata": {},
   "outputs": [],
   "source": [
    "action_episode_df = create_action_episode_df(log_train)"
   ]
  },
  {
   "cell_type": "code",
   "execution_count": null,
   "metadata": {},
   "outputs": [],
   "source": [
    "#get value counts of all columns in the DataFrame\n",
    "action_episode_df.apply(pd.Series.value_counts).transpose()[['Buy']].plot()"
   ]
  },
  {
   "cell_type": "code",
   "execution_count": null,
   "metadata": {},
   "outputs": [],
   "source": [
    "# Initialize the agent\n",
    "test_state_size = test_states.shape[1] * test_states.shape[2]\n",
    "action_size = 3\n",
    "agent = DQNAgent(state_size, action_size, lr=0.00001, gamma=0.95, epsilon=1.0, epsilon_min=0.01, epsilon_decay=0.999)"
   ]
  },
  {
   "cell_type": "code",
   "execution_count": null,
   "metadata": {},
   "outputs": [],
   "source": [
    "test_state_size"
   ]
  },
  {
   "cell_type": "code",
   "execution_count": null,
   "metadata": {},
   "outputs": [],
   "source": [
    "model_path = 'SP500/dqn_modelSP500_CNN_500_wo_outliers_hyp_tuned.pth'\n",
    "agent.model.load_state_dict(torch.load(model_path))\n",
    "\n",
    "# Ensure the model is in evaluation mode\n",
    "agent.model.eval()"
   ]
  },
  {
   "cell_type": "markdown",
   "metadata": {},
   "source": [
    "##"
   ]
  }
 ],
 "metadata": {
  "kernelspec": {
   "display_name": "base",
   "language": "python",
   "name": "python3"
  },
  "language_info": {
   "codemirror_mode": {
    "name": "ipython",
    "version": 3
   },
   "file_extension": ".py",
   "mimetype": "text/x-python",
   "name": "python",
   "nbconvert_exporter": "python",
   "pygments_lexer": "ipython3",
   "version": "3.11.5"
  }
 },
 "nbformat": 4,
 "nbformat_minor": 2
}
